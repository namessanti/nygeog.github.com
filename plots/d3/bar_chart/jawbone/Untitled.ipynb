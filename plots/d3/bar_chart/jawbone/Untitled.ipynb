{
 "cells": [
  {
   "cell_type": "code",
   "execution_count": 9,
   "metadata": {
    "collapsed": false
   },
   "outputs": [],
   "source": [
    "import pandas as pd\n",
    "\n",
    "dbox = '/Users/danielmsheehan/Dropbox/'\n",
    "dbox = '/Volumes/Kilo/Dropbox/'\n",
    "\n",
    "df2013 = pd.read_csv(dbox + 'GIS/Data/Monitoring/JawboneUp/2013.csv')\n",
    "df2014 = pd.read_csv(dbox + 'GIS/Data/Monitoring/JawboneUp/2014.csv')\n",
    "df2015 = pd.read_csv(dbox + 'GIS/Data/Monitoring/JawboneUp/2015.csv')\n",
    "\n",
    "df = df2013.append(df2014).append(df2015)\n",
    "\n",
    "df = df[['DATE','m_steps']]\n",
    "\n",
    "df = df[(df.m_steps > 0)]\n",
    "\n",
    "df.columns = ['letter', 'frequency']\n",
    "\n",
    "df = df.tail(15)\n",
    "\n",
    "df.to_csv('data.tsv',index=False,sep='\\t')"
   ]
  },
  {
   "cell_type": "code",
   "execution_count": null,
   "metadata": {
    "collapsed": true
   },
   "outputs": [],
   "source": []
  }
 ],
 "metadata": {
  "kernelspec": {
   "display_name": "Python 2",
   "language": "python",
   "name": "python2"
  },
  "language_info": {
   "codemirror_mode": {
    "name": "ipython",
    "version": 2
   },
   "file_extension": ".py",
   "mimetype": "text/x-python",
   "name": "python",
   "nbconvert_exporter": "python",
   "pygments_lexer": "ipython2",
   "version": "2.7.8"
  }
 },
 "nbformat": 4,
 "nbformat_minor": 0
}
