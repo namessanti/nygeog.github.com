{
 "cells": [
  {
   "cell_type": "code",
   "execution_count": 15,
   "metadata": {
    "collapsed": false
   },
   "outputs": [],
   "source": [
    "import pandas as pd\n",
    "\n",
    "dbox = '/Users/danielmsheehan/Dropbox/'\n",
    "dbox = '/Volumes/Kilo/Dropbox/'\n",
    "\n",
    "df2013 = pd.read_csv(dbox + 'GIS/Data/Monitoring/JawboneUp/2013.csv')\n",
    "df2014 = pd.read_csv(dbox + 'GIS/Data/Monitoring/JawboneUp/2014.csv')\n",
    "df2015 = pd.read_csv(dbox + 'GIS/Data/Monitoring/JawboneUp/2015.csv')\n",
    "\n",
    "dfAll = df2013.append(df2014).append(df2015)"
   ]
  },
  {
   "cell_type": "code",
   "execution_count": 18,
   "metadata": {
    "collapsed": false
   },
   "outputs": [
    {
     "name": "stdout",
     "output_type": "stream",
     "text": [
      "create steps tsv\n"
     ]
    }
   ],
   "source": [
    "print 'create steps tsv'\n",
    "df = dfAll[['DATE','m_steps']]\n",
    "\n",
    "df = df[(df.m_steps > 0)]\n",
    "\n",
    "df.columns = ['letter', 'frequency']\n",
    "df = df.tail(18)\n",
    "df.to_csv('steps/data.tsv',index=False,sep='\\t')"
   ]
  },
  {
   "cell_type": "code",
   "execution_count": 19,
   "metadata": {
    "collapsed": false
   },
   "outputs": [
    {
     "name": "stdout",
     "output_type": "stream",
     "text": [
      "create sleep tsv\n"
     ]
    }
   ],
   "source": [
    "print 'create sleep tsv'\n",
    "df = dfAll[['DATE','s_duration']]\n",
    "\n",
    "df = df[(df.s_duration > 0)]\n",
    "\n",
    "df.columns = ['letter', 'frequency']\n",
    "\n",
    "df['frequency'] = df['frequency'] * 0.000277778\n",
    "\n",
    "df = df.tail(18)\n",
    "df.to_csv('sleep/data.tsv',index=False,sep='\\t')"
   ]
  },
  {
   "cell_type": "code",
   "execution_count": null,
   "metadata": {
    "collapsed": true
   },
   "outputs": [],
   "source": []
  },
  {
   "cell_type": "code",
   "execution_count": null,
   "metadata": {
    "collapsed": true
   },
   "outputs": [],
   "source": []
  }
 ],
 "metadata": {
  "kernelspec": {
   "display_name": "Python 2",
   "language": "python",
   "name": "python2"
  },
  "language_info": {
   "codemirror_mode": {
    "name": "ipython",
    "version": 2
   },
   "file_extension": ".py",
   "mimetype": "text/x-python",
   "name": "python",
   "nbconvert_exporter": "python",
   "pygments_lexer": "ipython2",
   "version": "2.7.8"
  }
 },
 "nbformat": 4,
 "nbformat_minor": 0
}
